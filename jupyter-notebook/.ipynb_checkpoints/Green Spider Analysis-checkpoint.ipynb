{
 "cells": [
  {
   "cell_type": "code",
   "execution_count": 1,
   "metadata": {},
   "outputs": [],
   "source": [
    "import matplotlib.pyplot as plt\n",
    "import pandas as pd"
   ]
  },
  {
   "cell_type": "code",
   "execution_count": 11,
   "metadata": {
    "collapsed": true
   },
   "outputs": [
    {
     "data": {
      "text/html": [
       "<div>\n",
       "<style scoped>\n",
       "    .dataframe tbody tr th:only-of-type {\n",
       "        vertical-align: middle;\n",
       "    }\n",
       "\n",
       "    .dataframe tbody tr th {\n",
       "        vertical-align: top;\n",
       "    }\n",
       "\n",
       "    .dataframe thead th {\n",
       "        text-align: right;\n",
       "    }\n",
       "</style>\n",
       "<table border=\"1\" class=\"dataframe\">\n",
       "  <thead>\n",
       "    <tr style=\"text-align: right;\">\n",
       "      <th></th>\n",
       "      <th>created</th>\n",
       "      <th>generator</th>\n",
       "      <th>input_url</th>\n",
       "      <th>meta.city</th>\n",
       "      <th>meta.district</th>\n",
       "      <th>meta.level</th>\n",
       "      <th>meta.state</th>\n",
       "      <th>meta.type</th>\n",
       "      <th>rating.CANONICAL_URL.score</th>\n",
       "      <th>rating.CANONICAL_URL.value</th>\n",
       "      <th>...</th>\n",
       "      <th>rating.SITE_REACHABLE.score</th>\n",
       "      <th>rating.SITE_REACHABLE.value</th>\n",
       "      <th>rating.SOCIAL_MEDIA_LINKS.score</th>\n",
       "      <th>rating.SOCIAL_MEDIA_LINKS.value</th>\n",
       "      <th>rating.USE_SPECIFIC_FONTS.score</th>\n",
       "      <th>rating.USE_SPECIFIC_FONTS.value</th>\n",
       "      <th>rating.WWW_OPTIONAL.score</th>\n",
       "      <th>rating.WWW_OPTIONAL.value</th>\n",
       "      <th>resulting_urls</th>\n",
       "      <th>score</th>\n",
       "    </tr>\n",
       "  </thead>\n",
       "  <tbody>\n",
       "    <tr>\n",
       "      <th>0</th>\n",
       "      <td>2019-07-15 08:10:45.228262</td>\n",
       "      <td>wordpress-urwahl</td>\n",
       "      <td>http://die-gruenen-burscheid.de/</td>\n",
       "      <td>Burscheid</td>\n",
       "      <td>Rheinisch-Bergischer Kreis</td>\n",
       "      <td>DE:ORTSVERBAND</td>\n",
       "      <td>Nordrhein-Westfalen</td>\n",
       "      <td>REGIONAL_CHAPTER</td>\n",
       "      <td>1</td>\n",
       "      <td>True</td>\n",
       "      <td>...</td>\n",
       "      <td>1</td>\n",
       "      <td>True</td>\n",
       "      <td>0</td>\n",
       "      <td>False</td>\n",
       "      <td>1</td>\n",
       "      <td>True</td>\n",
       "      <td>1</td>\n",
       "      <td>True</td>\n",
       "      <td>http://die-gruenen-burscheid.de/</td>\n",
       "      <td>12.5</td>\n",
       "    </tr>\n",
       "    <tr>\n",
       "      <th>1</th>\n",
       "      <td>2019-07-15 20:16:01.399100</td>\n",
       "      <td>wordpress-urwahl</td>\n",
       "      <td>http://die-gruenen-meppen.de/</td>\n",
       "      <td>Meppen</td>\n",
       "      <td>Emsland-Süd</td>\n",
       "      <td>DE:ORTSVERBAND</td>\n",
       "      <td>Niedersachsen</td>\n",
       "      <td>REGIONAL_CHAPTER</td>\n",
       "      <td>0</td>\n",
       "      <td>False</td>\n",
       "      <td>...</td>\n",
       "      <td>1</td>\n",
       "      <td>True</td>\n",
       "      <td>1</td>\n",
       "      <td>True</td>\n",
       "      <td>1</td>\n",
       "      <td>True</td>\n",
       "      <td>1</td>\n",
       "      <td>True</td>\n",
       "      <td>http://die-gruenen-meppen.de/ https://die-grue...</td>\n",
       "      <td>14.5</td>\n",
       "    </tr>\n",
       "    <tr>\n",
       "      <th>2</th>\n",
       "      <td>2019-07-15 14:25:58.843788</td>\n",
       "      <td>wordpress-urwahl</td>\n",
       "      <td>http://erbach.gruene-odenwald.de/</td>\n",
       "      <td>Erbach</td>\n",
       "      <td>Odenwald</td>\n",
       "      <td>DE:ORTSVERBAND</td>\n",
       "      <td>Hessen</td>\n",
       "      <td>REGIONAL_CHAPTER</td>\n",
       "      <td>1</td>\n",
       "      <td>True</td>\n",
       "      <td>...</td>\n",
       "      <td>1</td>\n",
       "      <td>True</td>\n",
       "      <td>0</td>\n",
       "      <td>False</td>\n",
       "      <td>1</td>\n",
       "      <td>True</td>\n",
       "      <td>1</td>\n",
       "      <td>True</td>\n",
       "      <td>https://erbach.gruene-odenwald.de/</td>\n",
       "      <td>12.5</td>\n",
       "    </tr>\n",
       "    <tr>\n",
       "      <th>3</th>\n",
       "      <td>2019-07-15 18:24:57.841885</td>\n",
       "      <td>processwire 2.7.2</td>\n",
       "      <td>http://felix-banaszak.de/</td>\n",
       "      <td>None</td>\n",
       "      <td>None</td>\n",
       "      <td>DE:LANDESVERBAND</td>\n",
       "      <td>Nordrhein-Westfalen</td>\n",
       "      <td>PERSON</td>\n",
       "      <td>0</td>\n",
       "      <td>False</td>\n",
       "      <td>...</td>\n",
       "      <td>1</td>\n",
       "      <td>True</td>\n",
       "      <td>1</td>\n",
       "      <td>True</td>\n",
       "      <td>1</td>\n",
       "      <td>True</td>\n",
       "      <td>1</td>\n",
       "      <td>True</td>\n",
       "      <td>http://felix-banaszak.de/ http://www.felix-ban...</td>\n",
       "      <td>12.5</td>\n",
       "    </tr>\n",
       "    <tr>\n",
       "      <th>4</th>\n",
       "      <td>2019-07-15 17:50:01.227678</td>\n",
       "      <td>wordpress</td>\n",
       "      <td>http://gj-berlin.de/</td>\n",
       "      <td>None</td>\n",
       "      <td>None</td>\n",
       "      <td>DE:LANDESVERBAND</td>\n",
       "      <td>Berlin</td>\n",
       "      <td>YOUTH_ORGANIZATION</td>\n",
       "      <td>1</td>\n",
       "      <td>True</td>\n",
       "      <td>...</td>\n",
       "      <td>1</td>\n",
       "      <td>True</td>\n",
       "      <td>1</td>\n",
       "      <td>True</td>\n",
       "      <td>1</td>\n",
       "      <td>True</td>\n",
       "      <td>1</td>\n",
       "      <td>True</td>\n",
       "      <td>https://gj-berlin.de/</td>\n",
       "      <td>14.5</td>\n",
       "    </tr>\n",
       "  </tbody>\n",
       "</table>\n",
       "<p>5 rows × 40 columns</p>\n",
       "</div>"
      ],
      "text/plain": [
       "                     created          generator  \\\n",
       "0 2019-07-15 08:10:45.228262   wordpress-urwahl   \n",
       "1 2019-07-15 20:16:01.399100   wordpress-urwahl   \n",
       "2 2019-07-15 14:25:58.843788   wordpress-urwahl   \n",
       "3 2019-07-15 18:24:57.841885  processwire 2.7.2   \n",
       "4 2019-07-15 17:50:01.227678          wordpress   \n",
       "\n",
       "                           input_url  meta.city               meta.district  \\\n",
       "0   http://die-gruenen-burscheid.de/  Burscheid  Rheinisch-Bergischer Kreis   \n",
       "1      http://die-gruenen-meppen.de/     Meppen                 Emsland-Süd   \n",
       "2  http://erbach.gruene-odenwald.de/     Erbach                    Odenwald   \n",
       "3          http://felix-banaszak.de/       None                        None   \n",
       "4               http://gj-berlin.de/       None                        None   \n",
       "\n",
       "         meta.level           meta.state           meta.type  \\\n",
       "0    DE:ORTSVERBAND  Nordrhein-Westfalen    REGIONAL_CHAPTER   \n",
       "1    DE:ORTSVERBAND        Niedersachsen    REGIONAL_CHAPTER   \n",
       "2    DE:ORTSVERBAND               Hessen    REGIONAL_CHAPTER   \n",
       "3  DE:LANDESVERBAND  Nordrhein-Westfalen              PERSON   \n",
       "4  DE:LANDESVERBAND               Berlin  YOUTH_ORGANIZATION   \n",
       "\n",
       "   rating.CANONICAL_URL.score  rating.CANONICAL_URL.value  ...  \\\n",
       "0                           1                        True  ...   \n",
       "1                           0                       False  ...   \n",
       "2                           1                        True  ...   \n",
       "3                           0                       False  ...   \n",
       "4                           1                        True  ...   \n",
       "\n",
       "   rating.SITE_REACHABLE.score  rating.SITE_REACHABLE.value  \\\n",
       "0                            1                         True   \n",
       "1                            1                         True   \n",
       "2                            1                         True   \n",
       "3                            1                         True   \n",
       "4                            1                         True   \n",
       "\n",
       "   rating.SOCIAL_MEDIA_LINKS.score  rating.SOCIAL_MEDIA_LINKS.value  \\\n",
       "0                                0                            False   \n",
       "1                                1                             True   \n",
       "2                                0                            False   \n",
       "3                                1                             True   \n",
       "4                                1                             True   \n",
       "\n",
       "   rating.USE_SPECIFIC_FONTS.score  rating.USE_SPECIFIC_FONTS.value  \\\n",
       "0                                1                             True   \n",
       "1                                1                             True   \n",
       "2                                1                             True   \n",
       "3                                1                             True   \n",
       "4                                1                             True   \n",
       "\n",
       "   rating.WWW_OPTIONAL.score  rating.WWW_OPTIONAL.value  \\\n",
       "0                          1                       True   \n",
       "1                          1                       True   \n",
       "2                          1                       True   \n",
       "3                          1                       True   \n",
       "4                          1                       True   \n",
       "\n",
       "                                      resulting_urls  score  \n",
       "0                   http://die-gruenen-burscheid.de/   12.5  \n",
       "1  http://die-gruenen-meppen.de/ https://die-grue...   14.5  \n",
       "2                 https://erbach.gruene-odenwald.de/   12.5  \n",
       "3  http://felix-banaszak.de/ http://www.felix-ban...   12.5  \n",
       "4                              https://gj-berlin.de/   14.5  \n",
       "\n",
       "[5 rows x 40 columns]"
      ]
     },
     "execution_count": 11,
     "metadata": {},
     "output_type": "execute_result"
    }
   ],
   "source": [
    "# Load latest data\n",
    "df = pd.read_json(\"https://green-spider.netzbegruenung.de/api/v1/spider-results/table/\",\n",
    "                                  orient=\"records\",\n",
    "                                  convert_dates=[\"created\"])\n",
    "df.head()"
   ]
  },
  {
   "cell_type": "code",
   "execution_count": 22,
   "metadata": {},
   "outputs": [],
   "source": [
    "# massage the input dataframe\n",
    "df[\"generator\"] = df[\"generator\"].astype(\"category\")\n",
    "df[\"meta.city\"] = df[\"meta.city\"].astype(\"category\")\n",
    "df[\"meta.district\"] = df[\"meta.district\"].astype(\"category\")\n",
    "df[\"meta.level\"] = df[\"meta.level\"].astype(\"category\")\n",
    "df[\"meta.state\"] = df[\"meta.state\"].astype(\"category\")\n",
    "df[\"meta.type\"] = df[\"meta.type\"].astype(\"category\")\n",
    "\n",
    "#df.dtypes"
   ]
  },
  {
   "cell_type": "code",
   "execution_count": 35,
   "metadata": {},
   "outputs": [
    {
     "data": {
      "text/plain": [
       "count    1403.000000\n",
       "mean       12.748396\n",
       "std         2.451845\n",
       "min         0.000000\n",
       "25%        12.000000\n",
       "50%        13.500000\n",
       "75%        14.500000\n",
       "max        16.000000\n",
       "Name: score, dtype: float64"
      ]
     },
     "execution_count": 35,
     "metadata": {},
     "output_type": "execute_result"
    }
   ],
   "source": [
    "# Basic score summary\n",
    "df['score'].describe()"
   ]
  },
  {
   "cell_type": "code",
   "execution_count": 59,
   "metadata": {},
   "outputs": [
    {
     "data": {
      "text/plain": [
       "<matplotlib.axes._subplots.AxesSubplot at 0x1185873c8>"
      ]
     },
     "execution_count": 59,
     "metadata": {},
     "output_type": "execute_result"
    },
    {
     "data": {
      "image/png": "[encoded data removed]",
      "text/plain": [
       "<Figure size 432x288 with 1 Axes>"
      ]
     },
     "metadata": {
      "needs_background": "light"
     },
     "output_type": "display_data"
    }
   ],
   "source": [
    "# Plotting\n",
    "max_score = df['score'].max().astype(int)\n",
    "plt.close('all')\n",
    "plt.figure()\n",
    "df['score'].plot.hist(bins=max_score)"
   ]
  },
  {
   "cell_type": "code",
   "execution_count": 61,
   "metadata": {},
   "outputs": [
    {
     "data": {
      "text/plain": [
       "<matplotlib.axes._subplots.AxesSubplot at 0x118c98898>"
      ]
     },
     "execution_count": 61,
     "metadata": {},
     "output_type": "execute_result"
    },
    {
     "data": {
      "image/png": "[encoded data removed]",
      "text/plain": [
       "<Figure size 432x288 with 1 Axes>"
      ]
     },
     "metadata": {
      "needs_background": "light"
     },
     "output_type": "display_data"
    }
   ],
   "source": [
    "df.boxplot(column='score', by='meta.level', vert=False)"
   ]
  },
  {
   "cell_type": "code",
   "execution_count": 62,
   "metadata": {},
   "outputs": [
    {
     "data": {
      "text/plain": [
       "<matplotlib.axes._subplots.AxesSubplot at 0x1195fe3c8>"
      ]
     },
     "execution_count": 62,
     "metadata": {},
     "output_type": "execute_result"
    },
    {
     "data": {
      "image/png": "[encoded data removed]",
      "text/plain": [
       "<Figure size 432x288 with 1 Axes>"
      ]
     },
     "metadata": {
      "needs_background": "light"
     },
     "output_type": "display_data"
    }
   ],
   "source": [
    "df.boxplot(column='score', by='meta.type', vert=False)"
   ]
  },
  {
   "cell_type": "code",
   "execution_count": null,
   "metadata": {},
   "outputs": [],
   "source": []
  }
 ],
 "metadata": {
  "kernelspec": {
   "display_name": "Python 3",
   "language": "python",
   "name": "python3"
  },
  "language_info": {
   "codemirror_mode": {
    "name": "ipython",
    "version": 3
   },
   "file_extension": ".py",
   "mimetype": "text/x-python",
   "name": "python",
   "nbconvert_exporter": "python",
   "pygments_lexer": "ipython3",
   "version": "3.6.6"
  }
 },
 "nbformat": 4,
 "nbformat_minor": 2
}
